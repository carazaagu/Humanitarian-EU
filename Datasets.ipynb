{
 "metadata": {
  "language_info": {
   "codemirror_mode": {
    "name": "ipython",
    "version": 3
   },
   "file_extension": ".py",
   "mimetype": "text/x-python",
   "name": "python",
   "nbconvert_exporter": "python",
   "pygments_lexer": "ipython3",
   "version": "3.8.3"
  },
  "orig_nbformat": 4,
  "kernelspec": {
   "name": "python3",
   "display_name": "Python 3.8.3 32-bit ('base': conda)"
  },
  "interpreter": {
   "hash": "5f23c331dcc0e959a18d97d72b32723b8e8fefc4a029dc171226f15b89161c30"
  }
 },
 "nbformat": 4,
 "nbformat_minor": 2,
 "cells": [
  {
   "cell_type": "code",
   "execution_count": 1,
   "metadata": {},
   "outputs": [],
   "source": [
    "import pandas as pd\n",
    "import numpy as np\n",
    "import seaborn as sns\n",
    "import matplotlib.pyplot as plt\n",
    "import os"
   ]
  },
  {
   "cell_type": "code",
   "execution_count": 2,
   "metadata": {},
   "outputs": [],
   "source": [
    "# Define variables I will want to use per country\n",
    "\n",
    "variables = ['Poverty headcount ratio at $5.50 a day (2011 PPP) (% of population)',\n",
    "'Vulnerable employment, total (% of total employment) (modeled ILO estimate)',\n",
    "'Wage and salaried workers, total (% of total employment) (modeled ILO estimate)',\n",
    "'Prevalence of undernourishment (% of population)',\n",
    "'Crop production index (2014-2016 = 100)',\n",
    "'Prevalence of obesity, male (% of male population ages 18+)',\n",
    "'Prevalence of obesity, female (% of female population ages 18+)',\n",
    "'Prevalence of anemia among children (% of children under 5)',\n",
    "'Life expectancy at birth, total (years)',\n",
    "'Birth rate, crude (per 1,000 people)',\n",
    "'Hospital beds (per 1,000 people)',\n",
    "'Current health expenditure (% of GDP)',\n",
    "'Domestic general government health expenditure (% of current health expenditure)',\n",
    "'Suicide mortality rate (per 100,000 population)',\n",
    "'Population ages 65 and above (% of total population)',\n",
    "'Population, total',\n",
    "'Population growth (annual %)',\n",
    "'Educational attainment, at least completed lower secondary, population 25+, total (%) (cumulative)',\n",
    "'PISA: Mean performance on the science scale',\n",
    "'PISA: Mean performance on the mathematics scale',\n",
    "'PISA: Mean performance on the reading scale',\n",
    "'Current education expenditure, total (% of total expenditure in public institutions)',\n",
    "'Government expenditure on education, total (% of GDP)',\n",
    "'Population, female (% of total population)',\n",
    "'School enrollment, tertiary (gross), gender parity index (GPI)',\n",
    "'Labor force, female (% of total labor force)',\n",
    "'There is legislation specifically addressing domestic violence (1=yes; 0=no)',\n",
    "'Law prohibits discrimination in employment based on gender (1=yes; 0=no)',\n",
    "'People using safely managed sanitation services (% of population)',\n",
    "'People using safely managed drinking water services (% of population)',\n",
    "'Access to electricity (% of population)',\n",
    "'Adjusted savings: energy depletion (% of GNI)',\n",
    "'Unemployment, total (% of total labor force) (modeled ILO estimate)',\n",
    "'Share of youth not in education, employment or training, total (% of youth population)',\n",
    "'Part time employment, total (% of total employment)',\n",
    "'Adjusted savings: net national savings (% of GNI)',\n",
    "'Central government debt, total (% of GDP)',\n",
    "'GDP (current US$)',\n",
    "'GDP per capita (current US$)',\n",
    "'GNI (current US$)',\n",
    "'GNI per capita growth (annual %)',\n",
    "'Current account balance (BoP, current US$)',\n",
    "'Inflation, consumer prices (annual %)',\n",
    "'Industry (including construction), value added (% of GDP)',\n",
    "'Research and development expenditure (% of GDP)',\n",
    "'Refugee population by country or territory of asylum',\n",
    "'Gini index (World Bank estimate)',\n",
    "'Population living in slums (% of urban population)',\n",
    "'Urban population (% of total population)',\n",
    "'PM2.5 air pollution, population exposed to levels exceeding WHO guideline value (% of total)',\n",
    "'Adjusted savings: particulate emission damage (% of GNI)',\n",
    "'Renewable energy consumption (% of total final energy consumption)',\n",
    "'Total greenhouse gas emissions (kt of CO2 equivalent)',\n",
    "'CO2 emissions (kt)',\n",
    "'Adjusted savings: carbon dioxide damage (% of GNI)',\n",
    "'Marine protected areas (% of territorial waters)',\n",
    "'Total fisheries production (metric tons)',\n",
    "'Aquaculture production (metric tons)',\n",
    "'Agriculture, forestry, and fishing, value added (% of GDP)',\n",
    "'Terrestrial protected areas (% of total land area)',\n",
    "'Mortality caused by road traffic injury (per 100,000 population)',\n",
    "'Children out of school (% of primary school age)',\n",
    "'Strength of legal rights index (0=weak to 12=strong)',\n",
    "'Net ODA provided, total (% of GNI)',\n",
    "'Fixed broadband subscriptions (per 100 people)',\n",
    "'Trade (% of GDP)',\n",
    "'Foreign direct investment, net (BoP, current US$)',\n",
    "]\n"
   ]
  },
  {
   "source": [
    "# Obtain dataset per country"
   ],
   "cell_type": "markdown",
   "metadata": {}
  },
  {
   "cell_type": "code",
   "execution_count": 3,
   "metadata": {},
   "outputs": [],
   "source": [
    "# Read csv from country\n",
    "\n",
    "#df = pd.read_csv('Data/(Country Name)/indicators_(country name).csv')"
   ]
  },
  {
   "cell_type": "code",
   "execution_count": 4,
   "metadata": {},
   "outputs": [],
   "source": [
    "# Drop first columns as contains column names\n",
    " \n",
    "#df.drop(labels=0, inplace=True)"
   ]
  },
  {
   "cell_type": "code",
   "execution_count": 5,
   "metadata": {},
   "outputs": [],
   "source": [
    " # Drop duplciate rows\n",
    " \n",
    " #df.drop_duplicates(ignore_index=True, inplace = True)"
   ]
  },
  {
   "cell_type": "code",
   "execution_count": 6,
   "metadata": {},
   "outputs": [],
   "source": [
    "# Check if the country contains all 67 variables\n",
    "\n",
    "#test = []\n",
    "#for i in df['Indicator Name'].unique():\n",
    "#    if i in variables:\n",
    "#        test.append(i)\n",
    "#for i in variables:\n",
    "#    if i not in test:\n",
    "#        print(i)"
   ]
  },
  {
   "cell_type": "code",
   "execution_count": 7,
   "metadata": {},
   "outputs": [],
   "source": [
    "# Drop rows not in variables\n",
    "\n",
    "#for i,j in df.iterrows():\n",
    "#    if j['Indicator Name'] not in variables:\n",
    "#        df.drop(labels=i, inplace=True)"
   ]
  },
  {
   "cell_type": "code",
   "execution_count": 8,
   "metadata": {},
   "outputs": [],
   "source": [
    "# reset index so they go from 0 to length\n",
    "\n",
    "#df.reset_index(drop=True, inplace=True)"
   ]
  },
  {
   "cell_type": "code",
   "execution_count": 9,
   "metadata": {},
   "outputs": [],
   "source": [
    "# Create a .csv file with the country data\n",
    "\n",
    "# df.to_csv('Data/Z_Final/indicators_swe.csv')"
   ]
  },
  {
   "source": [
    "## Variables not in the list per country"
   ],
   "cell_type": "markdown",
   "metadata": {}
  },
  {
   "cell_type": "code",
   "execution_count": 10,
   "metadata": {},
   "outputs": [],
   "source": [
    "not_aus = ['Central government debt, total (% of GDP)',\n",
    "'Population living in slums (% of urban population)',\n",
    "'Marine protected areas (% of territorial waters)']"
   ]
  },
  {
   "cell_type": "code",
   "execution_count": 11,
   "metadata": {},
   "outputs": [],
   "source": [
    "not_bel = ['Central government debt, total (% of GDP)',\n",
    "'Population living in slums (% of urban population)']"
   ]
  },
  {
   "cell_type": "code",
   "execution_count": 12,
   "metadata": {},
   "outputs": [],
   "source": [
    "not_hrz = ['Central government debt, total (% of GDP)',\n",
    "'Population living in slums (% of urban population)',\n",
    "'Net ODA provided, total (% of GNI)']"
   ]
  },
  {
   "cell_type": "code",
   "execution_count": 13,
   "metadata": {},
   "outputs": [],
   "source": [
    "not_cyp = ['Population living in slums (% of urban population)',\n",
    "'Net ODA provided, total (% of GNI)']"
   ]
  },
  {
   "cell_type": "code",
   "execution_count": 14,
   "metadata": {},
   "outputs": [],
   "source": [
    "not_cze = ['Population living in slums (% of urban population)',\n",
    "'Marine protected areas (% of territorial waters)']"
   ]
  },
  {
   "cell_type": "code",
   "execution_count": 15,
   "metadata": {},
   "outputs": [],
   "source": [
    "not_dnk = []"
   ]
  },
  {
   "cell_type": "code",
   "execution_count": 16,
   "metadata": {},
   "outputs": [],
   "source": [
    "not_est = ['Central government debt, total (% of GDP)',\n",
    "'Population living in slums (% of urban population)',\n",
    "'Net ODA provided, total (% of GNI)']"
   ]
  },
  {
   "cell_type": "code",
   "execution_count": 17,
   "metadata": {},
   "outputs": [],
   "source": [
    "not_fin = ['Inflation, consumer prices (annual %)',\n",
    "'Population living in slums (% of urban population)']"
   ]
  },
  {
   "cell_type": "code",
   "execution_count": 18,
   "metadata": {},
   "outputs": [],
   "source": [
    "not_bgr = ['Central government debt, total (% of GDP)',\n",
    "'Population living in slums (% of urban population)',\n",
    "'Net ODA provided, total (% of GNI)']"
   ]
  },
  {
   "cell_type": "code",
   "execution_count": 19,
   "metadata": {},
   "outputs": [],
   "source": [
    "not_fra = ['Central government debt, total (% of GDP)',\n",
    "'Population living in slums (% of urban population)']"
   ]
  },
  {
   "cell_type": "code",
   "execution_count": 20,
   "metadata": {},
   "outputs": [],
   "source": [
    "not_ger = []"
   ]
  },
  {
   "cell_type": "code",
   "execution_count": 21,
   "metadata": {},
   "outputs": [],
   "source": [
    "not_grc = ['Central government debt, total (% of GDP)']"
   ]
  },
  {
   "cell_type": "code",
   "execution_count": 22,
   "metadata": {},
   "outputs": [],
   "source": [
    "not_hun = ['Marine protected areas (% of territorial waters)']"
   ]
  },
  {
   "cell_type": "code",
   "execution_count": 23,
   "metadata": {},
   "outputs": [],
   "source": [
    "not_irl = ['Population living in slums (% of urban population)']"
   ]
  },
  {
   "cell_type": "code",
   "execution_count": 24,
   "metadata": {},
   "outputs": [],
   "source": [
    "not_ita = ['Population living in slums (% of urban population)']"
   ]
  },
  {
   "cell_type": "code",
   "execution_count": 25,
   "metadata": {},
   "outputs": [],
   "source": [
    "not_lva = ['Population living in slums (% of urban population)',\n",
    "'Net ODA provided, total (% of GNI)']"
   ]
  },
  {
   "cell_type": "code",
   "execution_count": 26,
   "metadata": {},
   "outputs": [],
   "source": [
    "not_ltu = ['Central government debt, total (% of GDP)',\n",
    "'Population living in slums (% of urban population)',\n",
    "'Net ODA provided, total (% of GNI)']"
   ]
  },
  {
   "cell_type": "code",
   "execution_count": 27,
   "metadata": {},
   "outputs": [],
   "source": [
    "not_lux = ['Population living in slums (% of urban population)',\n",
    "'Marine protected areas (% of territorial waters)',\n",
    "'Aquaculture production (metric tons)']"
   ]
  },
  {
   "cell_type": "code",
   "execution_count": 28,
   "metadata": {},
   "outputs": [],
   "source": [
    "not_mlt = ['Population living in slums (% of urban population)',\n",
    "'Net ODA provided, total (% of GNI)']"
   ]
  },
  {
   "cell_type": "code",
   "execution_count": 29,
   "metadata": {},
   "outputs": [],
   "source": [
    "not_nld = ['Population living in slums (% of urban population)']"
   ]
  },
  {
   "cell_type": "code",
   "execution_count": 30,
   "metadata": {},
   "outputs": [],
   "source": [
    "not_pol = []"
   ]
  },
  {
   "cell_type": "code",
   "execution_count": 31,
   "metadata": {},
   "outputs": [],
   "source": [
    "not_prt = []"
   ]
  },
  {
   "cell_type": "code",
   "execution_count": 32,
   "metadata": {},
   "outputs": [],
   "source": [
    "not_rou = ['Central government debt, total (% of GDP)',\n",
    "'Net ODA provided, total (% of GNI)']"
   ]
  },
  {
   "cell_type": "code",
   "execution_count": 33,
   "metadata": {},
   "outputs": [],
   "source": [
    "not_svk = ['Central government debt, total (% of GDP)',\n",
    "'Population living in slums (% of urban population)',\n",
    "'Marine protected areas (% of territorial waters)']"
   ]
  },
  {
   "cell_type": "code",
   "execution_count": 34,
   "metadata": {},
   "outputs": [],
   "source": [
    "not_svn = []"
   ]
  },
  {
   "cell_type": "code",
   "execution_count": 35,
   "metadata": {},
   "outputs": [],
   "source": [
    "not_swe = ['Central government debt, total (% of GDP)']"
   ]
  },
  {
   "source": [
    "## Create final Dataset with all the countries included"
   ],
   "cell_type": "markdown",
   "metadata": {}
  },
  {
   "cell_type": "code",
   "execution_count": 36,
   "metadata": {},
   "outputs": [],
   "source": [
    "# Change working directory\n",
    "\n",
    "os.chdir('Data/Z_Final')"
   ]
  },
  {
   "cell_type": "code",
   "execution_count": 37,
   "metadata": {},
   "outputs": [],
   "source": [
    "# List all files from all countries\n",
    "\n",
    "all_files = os.listdir()"
   ]
  },
  {
   "cell_type": "code",
   "execution_count": 38,
   "metadata": {},
   "outputs": [],
   "source": [
    "# Concat the different Country files in one same file\n",
    "\n",
    "all_countries = pd.concat(pd.read_csv(i) for i in all_files).reset_index(drop=True).drop('Unnamed: 0', axis=1)"
   ]
  },
  {
   "cell_type": "code",
   "execution_count": 37,
   "metadata": {},
   "outputs": [],
   "source": [
    "# Change working directory\n",
    "\n",
    "os.chdir('..')"
   ]
  },
  {
   "cell_type": "code",
   "execution_count": 39,
   "metadata": {},
   "outputs": [],
   "source": [
    "# Create a .csv file with all the countries data\n",
    "\n",
    "all_countries.to_csv('Z_Final_all/indicators_all.csv')"
   ]
  }
 ]
}