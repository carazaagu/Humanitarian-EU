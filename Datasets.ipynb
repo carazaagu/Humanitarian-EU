{
 "metadata": {
  "language_info": {
   "codemirror_mode": {
    "name": "ipython",
    "version": 3
   },
   "file_extension": ".py",
   "mimetype": "text/x-python",
   "name": "python",
   "nbconvert_exporter": "python",
   "pygments_lexer": "ipython3",
   "version": "3.8.3"
  },
  "orig_nbformat": 4,
  "kernelspec": {
   "name": "python3",
   "display_name": "Python 3.8.3 32-bit ('base': conda)"
  },
  "interpreter": {
   "hash": "5f23c331dcc0e959a18d97d72b32723b8e8fefc4a029dc171226f15b89161c30"
  }
 },
 "nbformat": 4,
 "nbformat_minor": 2,
 "cells": [
  {
   "cell_type": "code",
   "execution_count": 1,
   "metadata": {},
   "outputs": [],
   "source": [
    "import pandas as pd\n",
    "import numpy as np\n",
    "import seaborn as sns\n",
    "import matplotlib.pyplot as plt\n",
    "import os"
   ]
  },
  {
   "source": [
    "# Obtain dataset per country"
   ],
   "cell_type": "markdown",
   "metadata": {}
  },
  {
   "cell_type": "code",
   "execution_count": 5,
   "metadata": {},
   "outputs": [],
   "source": [
    "variables = ['Poverty headcount ratio at $5.50 a day (2011 PPP) (% of population)',\n",
    "'Vulnerable employment, total (% of total employment) (modeled ILO estimate)',\n",
    "'Wage and salaried workers, total (% of total employment) (modeled ILO estimate)',\n",
    "'Prevalence of undernourishment (% of population)',\n",
    "'Crop production index (2014-2016 = 100)',\n",
    "'Prevalence of obesity, male (% of male population ages 18+)',\n",
    "'Prevalence of obesity, female (% of female population ages 18+)',\n",
    "'Prevalence of anemia among children (% of children under 5)',\n",
    "'Life expectancy at birth, total (years)',\n",
    "'Birth rate, crude (per 1,000 people)',\n",
    "'Hospital beds (per 1,000 people)',\n",
    "'Current health expenditure (% of GDP)',\n",
    "'Domestic general government health expenditure (% of current health expenditure)',\n",
    "'Suicide mortality rate (per 100,000 population)',\n",
    "'Population ages 65 and above (% of total population)',\n",
    "'Population, total',\n",
    "'Population growth (annual %)',\n",
    "'Educational attainment, at least completed lower secondary, population 25+, total (%) (cumulative)',\n",
    "'PISA: Mean performance on the science scale',\n",
    "'PISA: Mean performance on the mathematics scale',\n",
    "'PISA: Mean performance on the reading scale',\n",
    "'Current education expenditure, total (% of total expenditure in public institutions)',\n",
    "'Government expenditure on education, total (% of GDP)',\n",
    "'Population, female (% of total population)',\n",
    "'School enrollment, tertiary (gross), gender parity index (GPI)',\n",
    "'Labor force, female (% of total labor force)',\n",
    "'There is legislation specifically addressing domestic violence (1=yes; 0=no)',\n",
    "'Law prohibits discrimination in employment based on gender (1=yes; 0=no)',\n",
    "'People using safely managed sanitation services (% of population)',\n",
    "'People using safely managed drinking water services (% of population)',\n",
    "'Access to electricity (% of population)',\n",
    "'Adjusted savings: energy depletion (% of GNI)',\n",
    "'Unemployment, total (% of total labor force) (modeled ILO estimate)',\n",
    "'Share of youth not in education, employment or training, total (% of youth population)',\n",
    "'Part time employment, total (% of total employment)',\n",
    "'Adjusted savings: net national savings (% of GNI)',\n",
    "'Central government debt, total (% of GDP)',\n",
    "'GDP (current US$)',\n",
    "'GDP per capita (current US$)',\n",
    "'GNI (current US$)',\n",
    "'GNI per capita growth (annual %)',\n",
    "'Current account balance (BoP, current US$)',\n",
    "'Inflation, consumer prices (annual %)',\n",
    "'Industry (including construction), value added (% of GDP)',\n",
    "'Research and development expenditure (% of GDP)',\n",
    "'Refugee population by country or territory of asylum',\n",
    "'Gini index (World Bank estimate)',\n",
    "'Population living in slums (% of urban population)',\n",
    "'Urban population (% of total population)',\n",
    "'PM2.5 air pollution, population exposed to levels exceeding WHO guideline value (% of total)',\n",
    "'Adjusted savings: particulate emission damage (% of GNI)',\n",
    "'Renewable energy consumption (% of total final energy consumption)',\n",
    "'Total greenhouse gas emissions (kt of CO2 equivalent)',\n",
    "'CO2 emissions (kt)',\n",
    "'Adjusted savings: carbon dioxide damage (% of GNI)',\n",
    "'Marine protected areas (% of territorial waters)',\n",
    "'Total fisheries production (metric tons)',\n",
    "'Aquaculture production (metric tons)',\n",
    "'Agriculture, forestry, and fishing, value added (% of GDP)',\n",
    "'Terrestrial protected areas (% of total land area)',\n",
    "'Mortality caused by road traffic injury (per 100,000 population)',\n",
    "'Children out of school (% of primary school age)',\n",
    "'Strength of legal rights index (0=weak to 12=strong)',\n",
    "'Net ODA provided, total (% of GNI)',\n",
    "'Fixed broadband subscriptions (per 100 people)',\n",
    "'Trade (% of GDP)',\n",
    "'Foreign direct investment, net (BoP, current US$)',\n",
    "]\n"
   ]
  },
  {
   "cell_type": "code",
   "execution_count": 200,
   "metadata": {},
   "outputs": [
    {
     "output_type": "execute_result",
     "data": {
      "text/plain": [
       "        Country Name   Country ISO3        Year  \\\n",
       "0      #country+name  #country+code  #date+year   \n",
       "1             Sweden            SWE        2005   \n",
       "2             Sweden            SWE        2004   \n",
       "3             Sweden            SWE        2003   \n",
       "4             Sweden            SWE        2002   \n",
       "...              ...            ...         ...   \n",
       "74258         Sweden            SWE        1974   \n",
       "74259         Sweden            SWE        1973   \n",
       "74260         Sweden            SWE        1972   \n",
       "74261         Sweden            SWE        1971   \n",
       "74262         Sweden            SWE        1970   \n",
       "\n",
       "                                          Indicator Name     Indicator Code  \\\n",
       "0                                        #indicator+name    #indicator+code   \n",
       "1                       Agricultural machinery, tractors     AG.AGR.TRAC.NO   \n",
       "2                       Agricultural machinery, tractors     AG.AGR.TRAC.NO   \n",
       "3                       Agricultural machinery, tractors     AG.AGR.TRAC.NO   \n",
       "4                       Agricultural machinery, tractors     AG.AGR.TRAC.NO   \n",
       "...                                                  ...                ...   \n",
       "74258  Travel services (% of commercial service exports)  TX.VAL.TRVL.ZS.WT   \n",
       "74259  Travel services (% of commercial service exports)  TX.VAL.TRVL.ZS.WT   \n",
       "74260  Travel services (% of commercial service exports)  TX.VAL.TRVL.ZS.WT   \n",
       "74261  Travel services (% of commercial service exports)  TX.VAL.TRVL.ZS.WT   \n",
       "74262  Travel services (% of commercial service exports)  TX.VAL.TRVL.ZS.WT   \n",
       "\n",
       "                      Value  \n",
       "0      #indicator+value+num  \n",
       "1                    159590  \n",
       "2                    160600  \n",
       "3                    161700  \n",
       "4                    162800  \n",
       "...                     ...  \n",
       "74258      12.8600823045268  \n",
       "74259      12.8040973111396  \n",
       "74260      12.7565982404692  \n",
       "74261       12.406576980568  \n",
       "74262      12.0915032679738  \n",
       "\n",
       "[74263 rows x 6 columns]"
      ],
      "text/html": "<div>\n<style scoped>\n    .dataframe tbody tr th:only-of-type {\n        vertical-align: middle;\n    }\n\n    .dataframe tbody tr th {\n        vertical-align: top;\n    }\n\n    .dataframe thead th {\n        text-align: right;\n    }\n</style>\n<table border=\"1\" class=\"dataframe\">\n  <thead>\n    <tr style=\"text-align: right;\">\n      <th></th>\n      <th>Country Name</th>\n      <th>Country ISO3</th>\n      <th>Year</th>\n      <th>Indicator Name</th>\n      <th>Indicator Code</th>\n      <th>Value</th>\n    </tr>\n  </thead>\n  <tbody>\n    <tr>\n      <th>0</th>\n      <td>#country+name</td>\n      <td>#country+code</td>\n      <td>#date+year</td>\n      <td>#indicator+name</td>\n      <td>#indicator+code</td>\n      <td>#indicator+value+num</td>\n    </tr>\n    <tr>\n      <th>1</th>\n      <td>Sweden</td>\n      <td>SWE</td>\n      <td>2005</td>\n      <td>Agricultural machinery, tractors</td>\n      <td>AG.AGR.TRAC.NO</td>\n      <td>159590</td>\n    </tr>\n    <tr>\n      <th>2</th>\n      <td>Sweden</td>\n      <td>SWE</td>\n      <td>2004</td>\n      <td>Agricultural machinery, tractors</td>\n      <td>AG.AGR.TRAC.NO</td>\n      <td>160600</td>\n    </tr>\n    <tr>\n      <th>3</th>\n      <td>Sweden</td>\n      <td>SWE</td>\n      <td>2003</td>\n      <td>Agricultural machinery, tractors</td>\n      <td>AG.AGR.TRAC.NO</td>\n      <td>161700</td>\n    </tr>\n    <tr>\n      <th>4</th>\n      <td>Sweden</td>\n      <td>SWE</td>\n      <td>2002</td>\n      <td>Agricultural machinery, tractors</td>\n      <td>AG.AGR.TRAC.NO</td>\n      <td>162800</td>\n    </tr>\n    <tr>\n      <th>...</th>\n      <td>...</td>\n      <td>...</td>\n      <td>...</td>\n      <td>...</td>\n      <td>...</td>\n      <td>...</td>\n    </tr>\n    <tr>\n      <th>74258</th>\n      <td>Sweden</td>\n      <td>SWE</td>\n      <td>1974</td>\n      <td>Travel services (% of commercial service exports)</td>\n      <td>TX.VAL.TRVL.ZS.WT</td>\n      <td>12.8600823045268</td>\n    </tr>\n    <tr>\n      <th>74259</th>\n      <td>Sweden</td>\n      <td>SWE</td>\n      <td>1973</td>\n      <td>Travel services (% of commercial service exports)</td>\n      <td>TX.VAL.TRVL.ZS.WT</td>\n      <td>12.8040973111396</td>\n    </tr>\n    <tr>\n      <th>74260</th>\n      <td>Sweden</td>\n      <td>SWE</td>\n      <td>1972</td>\n      <td>Travel services (% of commercial service exports)</td>\n      <td>TX.VAL.TRVL.ZS.WT</td>\n      <td>12.7565982404692</td>\n    </tr>\n    <tr>\n      <th>74261</th>\n      <td>Sweden</td>\n      <td>SWE</td>\n      <td>1971</td>\n      <td>Travel services (% of commercial service exports)</td>\n      <td>TX.VAL.TRVL.ZS.WT</td>\n      <td>12.406576980568</td>\n    </tr>\n    <tr>\n      <th>74262</th>\n      <td>Sweden</td>\n      <td>SWE</td>\n      <td>1970</td>\n      <td>Travel services (% of commercial service exports)</td>\n      <td>TX.VAL.TRVL.ZS.WT</td>\n      <td>12.0915032679738</td>\n    </tr>\n  </tbody>\n</table>\n<p>74263 rows × 6 columns</p>\n</div>"
     },
     "metadata": {},
     "execution_count": 200
    }
   ],
   "source": [
    "df = pd.read_csv('Data/Sweden/indicators_swe.csv')\n",
    "df"
   ]
  },
  {
   "cell_type": "code",
   "execution_count": 201,
   "metadata": {},
   "outputs": [],
   "source": [
    "df.drop(labels=0, inplace=True)"
   ]
  },
  {
   "cell_type": "code",
   "execution_count": 202,
   "metadata": {},
   "outputs": [
    {
     "output_type": "execute_result",
     "data": {
      "text/plain": [
       "      Country Name Country ISO3  Year  \\\n",
       "1           Sweden          SWE  2005   \n",
       "2           Sweden          SWE  2004   \n",
       "3           Sweden          SWE  2003   \n",
       "4           Sweden          SWE  2002   \n",
       "5           Sweden          SWE  2001   \n",
       "...            ...          ...   ...   \n",
       "74258       Sweden          SWE  1974   \n",
       "74259       Sweden          SWE  1973   \n",
       "74260       Sweden          SWE  1972   \n",
       "74261       Sweden          SWE  1971   \n",
       "74262       Sweden          SWE  1970   \n",
       "\n",
       "                                          Indicator Name     Indicator Code  \\\n",
       "1                       Agricultural machinery, tractors     AG.AGR.TRAC.NO   \n",
       "2                       Agricultural machinery, tractors     AG.AGR.TRAC.NO   \n",
       "3                       Agricultural machinery, tractors     AG.AGR.TRAC.NO   \n",
       "4                       Agricultural machinery, tractors     AG.AGR.TRAC.NO   \n",
       "5                       Agricultural machinery, tractors     AG.AGR.TRAC.NO   \n",
       "...                                                  ...                ...   \n",
       "74258  Travel services (% of commercial service exports)  TX.VAL.TRVL.ZS.WT   \n",
       "74259  Travel services (% of commercial service exports)  TX.VAL.TRVL.ZS.WT   \n",
       "74260  Travel services (% of commercial service exports)  TX.VAL.TRVL.ZS.WT   \n",
       "74261  Travel services (% of commercial service exports)  TX.VAL.TRVL.ZS.WT   \n",
       "74262  Travel services (% of commercial service exports)  TX.VAL.TRVL.ZS.WT   \n",
       "\n",
       "                  Value  \n",
       "1                159590  \n",
       "2                160600  \n",
       "3                161700  \n",
       "4                162800  \n",
       "5                163900  \n",
       "...                 ...  \n",
       "74258  12.8600823045268  \n",
       "74259  12.8040973111396  \n",
       "74260  12.7565982404692  \n",
       "74261   12.406576980568  \n",
       "74262  12.0915032679738  \n",
       "\n",
       "[74262 rows x 6 columns]"
      ],
      "text/html": "<div>\n<style scoped>\n    .dataframe tbody tr th:only-of-type {\n        vertical-align: middle;\n    }\n\n    .dataframe tbody tr th {\n        vertical-align: top;\n    }\n\n    .dataframe thead th {\n        text-align: right;\n    }\n</style>\n<table border=\"1\" class=\"dataframe\">\n  <thead>\n    <tr style=\"text-align: right;\">\n      <th></th>\n      <th>Country Name</th>\n      <th>Country ISO3</th>\n      <th>Year</th>\n      <th>Indicator Name</th>\n      <th>Indicator Code</th>\n      <th>Value</th>\n    </tr>\n  </thead>\n  <tbody>\n    <tr>\n      <th>1</th>\n      <td>Sweden</td>\n      <td>SWE</td>\n      <td>2005</td>\n      <td>Agricultural machinery, tractors</td>\n      <td>AG.AGR.TRAC.NO</td>\n      <td>159590</td>\n    </tr>\n    <tr>\n      <th>2</th>\n      <td>Sweden</td>\n      <td>SWE</td>\n      <td>2004</td>\n      <td>Agricultural machinery, tractors</td>\n      <td>AG.AGR.TRAC.NO</td>\n      <td>160600</td>\n    </tr>\n    <tr>\n      <th>3</th>\n      <td>Sweden</td>\n      <td>SWE</td>\n      <td>2003</td>\n      <td>Agricultural machinery, tractors</td>\n      <td>AG.AGR.TRAC.NO</td>\n      <td>161700</td>\n    </tr>\n    <tr>\n      <th>4</th>\n      <td>Sweden</td>\n      <td>SWE</td>\n      <td>2002</td>\n      <td>Agricultural machinery, tractors</td>\n      <td>AG.AGR.TRAC.NO</td>\n      <td>162800</td>\n    </tr>\n    <tr>\n      <th>5</th>\n      <td>Sweden</td>\n      <td>SWE</td>\n      <td>2001</td>\n      <td>Agricultural machinery, tractors</td>\n      <td>AG.AGR.TRAC.NO</td>\n      <td>163900</td>\n    </tr>\n    <tr>\n      <th>...</th>\n      <td>...</td>\n      <td>...</td>\n      <td>...</td>\n      <td>...</td>\n      <td>...</td>\n      <td>...</td>\n    </tr>\n    <tr>\n      <th>74258</th>\n      <td>Sweden</td>\n      <td>SWE</td>\n      <td>1974</td>\n      <td>Travel services (% of commercial service exports)</td>\n      <td>TX.VAL.TRVL.ZS.WT</td>\n      <td>12.8600823045268</td>\n    </tr>\n    <tr>\n      <th>74259</th>\n      <td>Sweden</td>\n      <td>SWE</td>\n      <td>1973</td>\n      <td>Travel services (% of commercial service exports)</td>\n      <td>TX.VAL.TRVL.ZS.WT</td>\n      <td>12.8040973111396</td>\n    </tr>\n    <tr>\n      <th>74260</th>\n      <td>Sweden</td>\n      <td>SWE</td>\n      <td>1972</td>\n      <td>Travel services (% of commercial service exports)</td>\n      <td>TX.VAL.TRVL.ZS.WT</td>\n      <td>12.7565982404692</td>\n    </tr>\n    <tr>\n      <th>74261</th>\n      <td>Sweden</td>\n      <td>SWE</td>\n      <td>1971</td>\n      <td>Travel services (% of commercial service exports)</td>\n      <td>TX.VAL.TRVL.ZS.WT</td>\n      <td>12.406576980568</td>\n    </tr>\n    <tr>\n      <th>74262</th>\n      <td>Sweden</td>\n      <td>SWE</td>\n      <td>1970</td>\n      <td>Travel services (% of commercial service exports)</td>\n      <td>TX.VAL.TRVL.ZS.WT</td>\n      <td>12.0915032679738</td>\n    </tr>\n  </tbody>\n</table>\n<p>74262 rows × 6 columns</p>\n</div>"
     },
     "metadata": {},
     "execution_count": 202
    }
   ],
   "source": [
    "df"
   ]
  },
  {
   "cell_type": "code",
   "execution_count": 203,
   "metadata": {},
   "outputs": [],
   "source": [
    "df.drop_duplicates(ignore_index=True, inplace = True)"
   ]
  },
  {
   "cell_type": "code",
   "execution_count": 204,
   "metadata": {},
   "outputs": [
    {
     "output_type": "execute_result",
     "data": {
      "text/plain": [
       "      Country Name Country ISO3  Year  \\\n",
       "0           Sweden          SWE  2005   \n",
       "1           Sweden          SWE  2004   \n",
       "2           Sweden          SWE  2003   \n",
       "3           Sweden          SWE  2002   \n",
       "4           Sweden          SWE  2001   \n",
       "...            ...          ...   ...   \n",
       "56465       Sweden          SWE  1964   \n",
       "56466       Sweden          SWE  1963   \n",
       "56467       Sweden          SWE  1962   \n",
       "56468       Sweden          SWE  1961   \n",
       "56469       Sweden          SWE  1960   \n",
       "\n",
       "                                    Indicator Name  Indicator Code      Value  \n",
       "0                 Agricultural machinery, tractors  AG.AGR.TRAC.NO     159590  \n",
       "1                 Agricultural machinery, tractors  AG.AGR.TRAC.NO     160600  \n",
       "2                 Agricultural machinery, tractors  AG.AGR.TRAC.NO     161700  \n",
       "3                 Agricultural machinery, tractors  AG.AGR.TRAC.NO     162800  \n",
       "4                 Agricultural machinery, tractors  AG.AGR.TRAC.NO     163900  \n",
       "...                                            ...             ...        ...  \n",
       "56465  Net ODA provided, total (constant 2015 US$)  DC.ODA.TOTL.KD  224094000  \n",
       "56466  Net ODA provided, total (constant 2015 US$)  DC.ODA.TOTL.KD  164526000  \n",
       "56467  Net ODA provided, total (constant 2015 US$)  DC.ODA.TOTL.KD  135714000  \n",
       "56468  Net ODA provided, total (constant 2015 US$)  DC.ODA.TOTL.KD   64244000  \n",
       "56469  Net ODA provided, total (constant 2015 US$)  DC.ODA.TOTL.KD   52758000  \n",
       "\n",
       "[56470 rows x 6 columns]"
      ],
      "text/html": "<div>\n<style scoped>\n    .dataframe tbody tr th:only-of-type {\n        vertical-align: middle;\n    }\n\n    .dataframe tbody tr th {\n        vertical-align: top;\n    }\n\n    .dataframe thead th {\n        text-align: right;\n    }\n</style>\n<table border=\"1\" class=\"dataframe\">\n  <thead>\n    <tr style=\"text-align: right;\">\n      <th></th>\n      <th>Country Name</th>\n      <th>Country ISO3</th>\n      <th>Year</th>\n      <th>Indicator Name</th>\n      <th>Indicator Code</th>\n      <th>Value</th>\n    </tr>\n  </thead>\n  <tbody>\n    <tr>\n      <th>0</th>\n      <td>Sweden</td>\n      <td>SWE</td>\n      <td>2005</td>\n      <td>Agricultural machinery, tractors</td>\n      <td>AG.AGR.TRAC.NO</td>\n      <td>159590</td>\n    </tr>\n    <tr>\n      <th>1</th>\n      <td>Sweden</td>\n      <td>SWE</td>\n      <td>2004</td>\n      <td>Agricultural machinery, tractors</td>\n      <td>AG.AGR.TRAC.NO</td>\n      <td>160600</td>\n    </tr>\n    <tr>\n      <th>2</th>\n      <td>Sweden</td>\n      <td>SWE</td>\n      <td>2003</td>\n      <td>Agricultural machinery, tractors</td>\n      <td>AG.AGR.TRAC.NO</td>\n      <td>161700</td>\n    </tr>\n    <tr>\n      <th>3</th>\n      <td>Sweden</td>\n      <td>SWE</td>\n      <td>2002</td>\n      <td>Agricultural machinery, tractors</td>\n      <td>AG.AGR.TRAC.NO</td>\n      <td>162800</td>\n    </tr>\n    <tr>\n      <th>4</th>\n      <td>Sweden</td>\n      <td>SWE</td>\n      <td>2001</td>\n      <td>Agricultural machinery, tractors</td>\n      <td>AG.AGR.TRAC.NO</td>\n      <td>163900</td>\n    </tr>\n    <tr>\n      <th>...</th>\n      <td>...</td>\n      <td>...</td>\n      <td>...</td>\n      <td>...</td>\n      <td>...</td>\n      <td>...</td>\n    </tr>\n    <tr>\n      <th>56465</th>\n      <td>Sweden</td>\n      <td>SWE</td>\n      <td>1964</td>\n      <td>Net ODA provided, total (constant 2015 US$)</td>\n      <td>DC.ODA.TOTL.KD</td>\n      <td>224094000</td>\n    </tr>\n    <tr>\n      <th>56466</th>\n      <td>Sweden</td>\n      <td>SWE</td>\n      <td>1963</td>\n      <td>Net ODA provided, total (constant 2015 US$)</td>\n      <td>DC.ODA.TOTL.KD</td>\n      <td>164526000</td>\n    </tr>\n    <tr>\n      <th>56467</th>\n      <td>Sweden</td>\n      <td>SWE</td>\n      <td>1962</td>\n      <td>Net ODA provided, total (constant 2015 US$)</td>\n      <td>DC.ODA.TOTL.KD</td>\n      <td>135714000</td>\n    </tr>\n    <tr>\n      <th>56468</th>\n      <td>Sweden</td>\n      <td>SWE</td>\n      <td>1961</td>\n      <td>Net ODA provided, total (constant 2015 US$)</td>\n      <td>DC.ODA.TOTL.KD</td>\n      <td>64244000</td>\n    </tr>\n    <tr>\n      <th>56469</th>\n      <td>Sweden</td>\n      <td>SWE</td>\n      <td>1960</td>\n      <td>Net ODA provided, total (constant 2015 US$)</td>\n      <td>DC.ODA.TOTL.KD</td>\n      <td>52758000</td>\n    </tr>\n  </tbody>\n</table>\n<p>56470 rows × 6 columns</p>\n</div>"
     },
     "metadata": {},
     "execution_count": 204
    }
   ],
   "source": [
    "df"
   ]
  },
  {
   "cell_type": "code",
   "execution_count": 205,
   "metadata": {},
   "outputs": [
    {
     "output_type": "execute_result",
     "data": {
      "text/plain": [
       "66"
      ]
     },
     "metadata": {},
     "execution_count": 205
    }
   ],
   "source": [
    "test = []\n",
    "for i in df['Indicator Name'].unique():\n",
    "    if i in variables:\n",
    "        test.append(i)\n",
    "len(test)"
   ]
  },
  {
   "cell_type": "code",
   "execution_count": 206,
   "metadata": {},
   "outputs": [
    {
     "output_type": "stream",
     "name": "stdout",
     "text": [
      "Central government debt, total (% of GDP)\n"
     ]
    }
   ],
   "source": [
    "for i in variables:\n",
    "    if i not in test:\n",
    "        print(i)"
   ]
  },
  {
   "cell_type": "code",
   "execution_count": 207,
   "metadata": {},
   "outputs": [
    {
     "output_type": "execute_result",
     "data": {
      "text/plain": [
       "56470"
      ]
     },
     "metadata": {},
     "execution_count": 207
    }
   ],
   "source": [
    "len(df)"
   ]
  },
  {
   "cell_type": "code",
   "execution_count": 208,
   "metadata": {},
   "outputs": [],
   "source": [
    "for i,j in df.iterrows():\n",
    "    if j['Indicator Name'] not in variables:\n",
    "        df.drop(labels=i, inplace=True)"
   ]
  },
  {
   "cell_type": "code",
   "execution_count": 210,
   "metadata": {},
   "outputs": [
    {
     "output_type": "execute_result",
     "data": {
      "text/plain": [
       "      Country Name Country ISO3  Year  \\\n",
       "801         Sweden          SWE  2018   \n",
       "802         Sweden          SWE  2017   \n",
       "803         Sweden          SWE  2016   \n",
       "804         Sweden          SWE  2015   \n",
       "805         Sweden          SWE  2014   \n",
       "...            ...          ...   ...   \n",
       "56408       Sweden          SWE  1964   \n",
       "56409       Sweden          SWE  1963   \n",
       "56410       Sweden          SWE  1962   \n",
       "56411       Sweden          SWE  1961   \n",
       "56412       Sweden          SWE  1960   \n",
       "\n",
       "                                Indicator Name     Indicator Code   Value  \n",
       "801    Crop production index (2014-2016 = 100)     AG.PRD.CROP.XD   64.44  \n",
       "802    Crop production index (2014-2016 = 100)     AG.PRD.CROP.XD  103.33  \n",
       "803    Crop production index (2014-2016 = 100)     AG.PRD.CROP.XD   96.21  \n",
       "804    Crop production index (2014-2016 = 100)     AG.PRD.CROP.XD  103.92  \n",
       "805    Crop production index (2014-2016 = 100)     AG.PRD.CROP.XD   99.88  \n",
       "...                                        ...                ...     ...  \n",
       "56408       Net ODA provided, total (% of GNI)  DC.ODA.TOTL.GN.ZS   0.176  \n",
       "56409       Net ODA provided, total (% of GNI)  DC.ODA.TOTL.GN.ZS   0.137  \n",
       "56410       Net ODA provided, total (% of GNI)  DC.ODA.TOTL.GN.ZS    0.12  \n",
       "56411       Net ODA provided, total (% of GNI)  DC.ODA.TOTL.GN.ZS   0.059  \n",
       "56412       Net ODA provided, total (% of GNI)  DC.ODA.TOTL.GN.ZS   0.051  \n",
       "\n",
       "[2401 rows x 6 columns]"
      ],
      "text/html": "<div>\n<style scoped>\n    .dataframe tbody tr th:only-of-type {\n        vertical-align: middle;\n    }\n\n    .dataframe tbody tr th {\n        vertical-align: top;\n    }\n\n    .dataframe thead th {\n        text-align: right;\n    }\n</style>\n<table border=\"1\" class=\"dataframe\">\n  <thead>\n    <tr style=\"text-align: right;\">\n      <th></th>\n      <th>Country Name</th>\n      <th>Country ISO3</th>\n      <th>Year</th>\n      <th>Indicator Name</th>\n      <th>Indicator Code</th>\n      <th>Value</th>\n    </tr>\n  </thead>\n  <tbody>\n    <tr>\n      <th>801</th>\n      <td>Sweden</td>\n      <td>SWE</td>\n      <td>2018</td>\n      <td>Crop production index (2014-2016 = 100)</td>\n      <td>AG.PRD.CROP.XD</td>\n      <td>64.44</td>\n    </tr>\n    <tr>\n      <th>802</th>\n      <td>Sweden</td>\n      <td>SWE</td>\n      <td>2017</td>\n      <td>Crop production index (2014-2016 = 100)</td>\n      <td>AG.PRD.CROP.XD</td>\n      <td>103.33</td>\n    </tr>\n    <tr>\n      <th>803</th>\n      <td>Sweden</td>\n      <td>SWE</td>\n      <td>2016</td>\n      <td>Crop production index (2014-2016 = 100)</td>\n      <td>AG.PRD.CROP.XD</td>\n      <td>96.21</td>\n    </tr>\n    <tr>\n      <th>804</th>\n      <td>Sweden</td>\n      <td>SWE</td>\n      <td>2015</td>\n      <td>Crop production index (2014-2016 = 100)</td>\n      <td>AG.PRD.CROP.XD</td>\n      <td>103.92</td>\n    </tr>\n    <tr>\n      <th>805</th>\n      <td>Sweden</td>\n      <td>SWE</td>\n      <td>2014</td>\n      <td>Crop production index (2014-2016 = 100)</td>\n      <td>AG.PRD.CROP.XD</td>\n      <td>99.88</td>\n    </tr>\n    <tr>\n      <th>...</th>\n      <td>...</td>\n      <td>...</td>\n      <td>...</td>\n      <td>...</td>\n      <td>...</td>\n      <td>...</td>\n    </tr>\n    <tr>\n      <th>56408</th>\n      <td>Sweden</td>\n      <td>SWE</td>\n      <td>1964</td>\n      <td>Net ODA provided, total (% of GNI)</td>\n      <td>DC.ODA.TOTL.GN.ZS</td>\n      <td>0.176</td>\n    </tr>\n    <tr>\n      <th>56409</th>\n      <td>Sweden</td>\n      <td>SWE</td>\n      <td>1963</td>\n      <td>Net ODA provided, total (% of GNI)</td>\n      <td>DC.ODA.TOTL.GN.ZS</td>\n      <td>0.137</td>\n    </tr>\n    <tr>\n      <th>56410</th>\n      <td>Sweden</td>\n      <td>SWE</td>\n      <td>1962</td>\n      <td>Net ODA provided, total (% of GNI)</td>\n      <td>DC.ODA.TOTL.GN.ZS</td>\n      <td>0.12</td>\n    </tr>\n    <tr>\n      <th>56411</th>\n      <td>Sweden</td>\n      <td>SWE</td>\n      <td>1961</td>\n      <td>Net ODA provided, total (% of GNI)</td>\n      <td>DC.ODA.TOTL.GN.ZS</td>\n      <td>0.059</td>\n    </tr>\n    <tr>\n      <th>56412</th>\n      <td>Sweden</td>\n      <td>SWE</td>\n      <td>1960</td>\n      <td>Net ODA provided, total (% of GNI)</td>\n      <td>DC.ODA.TOTL.GN.ZS</td>\n      <td>0.051</td>\n    </tr>\n  </tbody>\n</table>\n<p>2401 rows × 6 columns</p>\n</div>"
     },
     "metadata": {},
     "execution_count": 210
    }
   ],
   "source": [
    "df"
   ]
  },
  {
   "cell_type": "code",
   "execution_count": 211,
   "metadata": {},
   "outputs": [],
   "source": [
    "df.reset_index(drop=True, inplace=True)"
   ]
  },
  {
   "cell_type": "code",
   "execution_count": 212,
   "metadata": {},
   "outputs": [
    {
     "output_type": "execute_result",
     "data": {
      "text/plain": [
       "     Country Name Country ISO3  Year                           Indicator Name  \\\n",
       "0          Sweden          SWE  2018  Crop production index (2014-2016 = 100)   \n",
       "1          Sweden          SWE  2017  Crop production index (2014-2016 = 100)   \n",
       "2          Sweden          SWE  2016  Crop production index (2014-2016 = 100)   \n",
       "3          Sweden          SWE  2015  Crop production index (2014-2016 = 100)   \n",
       "4          Sweden          SWE  2014  Crop production index (2014-2016 = 100)   \n",
       "...           ...          ...   ...                                      ...   \n",
       "2396       Sweden          SWE  1964       Net ODA provided, total (% of GNI)   \n",
       "2397       Sweden          SWE  1963       Net ODA provided, total (% of GNI)   \n",
       "2398       Sweden          SWE  1962       Net ODA provided, total (% of GNI)   \n",
       "2399       Sweden          SWE  1961       Net ODA provided, total (% of GNI)   \n",
       "2400       Sweden          SWE  1960       Net ODA provided, total (% of GNI)   \n",
       "\n",
       "         Indicator Code   Value  \n",
       "0        AG.PRD.CROP.XD   64.44  \n",
       "1        AG.PRD.CROP.XD  103.33  \n",
       "2        AG.PRD.CROP.XD   96.21  \n",
       "3        AG.PRD.CROP.XD  103.92  \n",
       "4        AG.PRD.CROP.XD   99.88  \n",
       "...                 ...     ...  \n",
       "2396  DC.ODA.TOTL.GN.ZS   0.176  \n",
       "2397  DC.ODA.TOTL.GN.ZS   0.137  \n",
       "2398  DC.ODA.TOTL.GN.ZS    0.12  \n",
       "2399  DC.ODA.TOTL.GN.ZS   0.059  \n",
       "2400  DC.ODA.TOTL.GN.ZS   0.051  \n",
       "\n",
       "[2401 rows x 6 columns]"
      ],
      "text/html": "<div>\n<style scoped>\n    .dataframe tbody tr th:only-of-type {\n        vertical-align: middle;\n    }\n\n    .dataframe tbody tr th {\n        vertical-align: top;\n    }\n\n    .dataframe thead th {\n        text-align: right;\n    }\n</style>\n<table border=\"1\" class=\"dataframe\">\n  <thead>\n    <tr style=\"text-align: right;\">\n      <th></th>\n      <th>Country Name</th>\n      <th>Country ISO3</th>\n      <th>Year</th>\n      <th>Indicator Name</th>\n      <th>Indicator Code</th>\n      <th>Value</th>\n    </tr>\n  </thead>\n  <tbody>\n    <tr>\n      <th>0</th>\n      <td>Sweden</td>\n      <td>SWE</td>\n      <td>2018</td>\n      <td>Crop production index (2014-2016 = 100)</td>\n      <td>AG.PRD.CROP.XD</td>\n      <td>64.44</td>\n    </tr>\n    <tr>\n      <th>1</th>\n      <td>Sweden</td>\n      <td>SWE</td>\n      <td>2017</td>\n      <td>Crop production index (2014-2016 = 100)</td>\n      <td>AG.PRD.CROP.XD</td>\n      <td>103.33</td>\n    </tr>\n    <tr>\n      <th>2</th>\n      <td>Sweden</td>\n      <td>SWE</td>\n      <td>2016</td>\n      <td>Crop production index (2014-2016 = 100)</td>\n      <td>AG.PRD.CROP.XD</td>\n      <td>96.21</td>\n    </tr>\n    <tr>\n      <th>3</th>\n      <td>Sweden</td>\n      <td>SWE</td>\n      <td>2015</td>\n      <td>Crop production index (2014-2016 = 100)</td>\n      <td>AG.PRD.CROP.XD</td>\n      <td>103.92</td>\n    </tr>\n    <tr>\n      <th>4</th>\n      <td>Sweden</td>\n      <td>SWE</td>\n      <td>2014</td>\n      <td>Crop production index (2014-2016 = 100)</td>\n      <td>AG.PRD.CROP.XD</td>\n      <td>99.88</td>\n    </tr>\n    <tr>\n      <th>...</th>\n      <td>...</td>\n      <td>...</td>\n      <td>...</td>\n      <td>...</td>\n      <td>...</td>\n      <td>...</td>\n    </tr>\n    <tr>\n      <th>2396</th>\n      <td>Sweden</td>\n      <td>SWE</td>\n      <td>1964</td>\n      <td>Net ODA provided, total (% of GNI)</td>\n      <td>DC.ODA.TOTL.GN.ZS</td>\n      <td>0.176</td>\n    </tr>\n    <tr>\n      <th>2397</th>\n      <td>Sweden</td>\n      <td>SWE</td>\n      <td>1963</td>\n      <td>Net ODA provided, total (% of GNI)</td>\n      <td>DC.ODA.TOTL.GN.ZS</td>\n      <td>0.137</td>\n    </tr>\n    <tr>\n      <th>2398</th>\n      <td>Sweden</td>\n      <td>SWE</td>\n      <td>1962</td>\n      <td>Net ODA provided, total (% of GNI)</td>\n      <td>DC.ODA.TOTL.GN.ZS</td>\n      <td>0.12</td>\n    </tr>\n    <tr>\n      <th>2399</th>\n      <td>Sweden</td>\n      <td>SWE</td>\n      <td>1961</td>\n      <td>Net ODA provided, total (% of GNI)</td>\n      <td>DC.ODA.TOTL.GN.ZS</td>\n      <td>0.059</td>\n    </tr>\n    <tr>\n      <th>2400</th>\n      <td>Sweden</td>\n      <td>SWE</td>\n      <td>1960</td>\n      <td>Net ODA provided, total (% of GNI)</td>\n      <td>DC.ODA.TOTL.GN.ZS</td>\n      <td>0.051</td>\n    </tr>\n  </tbody>\n</table>\n<p>2401 rows × 6 columns</p>\n</div>"
     },
     "metadata": {},
     "execution_count": 212
    }
   ],
   "source": [
    "df"
   ]
  },
  {
   "cell_type": "code",
   "execution_count": 213,
   "metadata": {},
   "outputs": [],
   "source": [
    "# df.to_csv('Data/Z_Final/indicators_swe.csv')"
   ]
  },
  {
   "source": [
    "## Variables not in the list per country"
   ],
   "cell_type": "markdown",
   "metadata": {}
  },
  {
   "cell_type": "code",
   "execution_count": 19,
   "metadata": {},
   "outputs": [],
   "source": [
    "not_aus = ['Central government debt, total (% of GDP)',\n",
    "'Population living in slums (% of urban population)',\n",
    "'Marine protected areas (% of territorial waters)']"
   ]
  },
  {
   "cell_type": "code",
   "execution_count": 20,
   "metadata": {},
   "outputs": [],
   "source": [
    "not_bel = ['Central government debt, total (% of GDP)',\n",
    "'Population living in slums (% of urban population)']"
   ]
  },
  {
   "cell_type": "code",
   "execution_count": 21,
   "metadata": {},
   "outputs": [],
   "source": [
    "not_hrz = ['Central government debt, total (% of GDP)',\n",
    "'Population living in slums (% of urban population)',\n",
    "'Net ODA provided, total (% of GNI)']"
   ]
  },
  {
   "cell_type": "code",
   "execution_count": 22,
   "metadata": {},
   "outputs": [],
   "source": [
    "not_cyp = ['Population living in slums (% of urban population)',\n",
    "'Net ODA provided, total (% of GNI)']"
   ]
  },
  {
   "cell_type": "code",
   "execution_count": 23,
   "metadata": {},
   "outputs": [],
   "source": [
    "not_cze = ['Population living in slums (% of urban population)',\n",
    "'Marine protected areas (% of territorial waters)']"
   ]
  },
  {
   "cell_type": "code",
   "execution_count": 24,
   "metadata": {},
   "outputs": [],
   "source": [
    "not_dnk = []"
   ]
  },
  {
   "cell_type": "code",
   "execution_count": 25,
   "metadata": {},
   "outputs": [],
   "source": [
    "not_est = ['Central government debt, total (% of GDP)',\n",
    "'Population living in slums (% of urban population)',\n",
    "'Net ODA provided, total (% of GNI)']"
   ]
  },
  {
   "cell_type": "code",
   "execution_count": 26,
   "metadata": {},
   "outputs": [],
   "source": [
    "not_fin = ['Inflation, consumer prices (annual %)',\n",
    "'Population living in slums (% of urban population)']"
   ]
  },
  {
   "cell_type": "code",
   "execution_count": 27,
   "metadata": {},
   "outputs": [],
   "source": [
    "not_bgr = ['Central government debt, total (% of GDP)',\n",
    "'Population living in slums (% of urban population)',\n",
    "'Net ODA provided, total (% of GNI)']"
   ]
  },
  {
   "cell_type": "code",
   "execution_count": 28,
   "metadata": {},
   "outputs": [],
   "source": [
    "not_fra = ['Central government debt, total (% of GDP)',\n",
    "'Population living in slums (% of urban population)']"
   ]
  },
  {
   "cell_type": "code",
   "execution_count": 29,
   "metadata": {},
   "outputs": [],
   "source": [
    "not_ger = []"
   ]
  },
  {
   "cell_type": "code",
   "execution_count": 30,
   "metadata": {},
   "outputs": [],
   "source": [
    "not_grc = ['Central government debt, total (% of GDP)']"
   ]
  },
  {
   "cell_type": "code",
   "execution_count": 31,
   "metadata": {},
   "outputs": [],
   "source": [
    "not_hun = ['Marine protected areas (% of territorial waters)']"
   ]
  },
  {
   "cell_type": "code",
   "execution_count": 58,
   "metadata": {},
   "outputs": [],
   "source": [
    "not_irl = ['Population living in slums (% of urban population)']"
   ]
  },
  {
   "cell_type": "code",
   "execution_count": 59,
   "metadata": {},
   "outputs": [],
   "source": [
    "not_ita = ['Population living in slums (% of urban population)']"
   ]
  },
  {
   "cell_type": "code",
   "execution_count": 60,
   "metadata": {},
   "outputs": [],
   "source": [
    "not_lva = ['Population living in slums (% of urban population)',\n",
    "'Net ODA provided, total (% of GNI)']"
   ]
  },
  {
   "cell_type": "code",
   "execution_count": 100,
   "metadata": {},
   "outputs": [],
   "source": [
    "not_ltu = ['Central government debt, total (% of GDP)',\n",
    "'Population living in slums (% of urban population)',\n",
    "'Net ODA provided, total (% of GNI)']"
   ]
  },
  {
   "cell_type": "code",
   "execution_count": 101,
   "metadata": {},
   "outputs": [],
   "source": [
    "not_lux = ['Population living in slums (% of urban population)',\n",
    "'Marine protected areas (% of territorial waters)',\n",
    "'Aquaculture production (metric tons)']"
   ]
  },
  {
   "cell_type": "code",
   "execution_count": 111,
   "metadata": {},
   "outputs": [],
   "source": [
    "not_mlt = ['Population living in slums (% of urban population)',\n",
    "'Net ODA provided, total (% of GNI)']"
   ]
  },
  {
   "cell_type": "code",
   "execution_count": 125,
   "metadata": {},
   "outputs": [],
   "source": [
    "not_nld = ['Population living in slums (% of urban population)']"
   ]
  },
  {
   "cell_type": "code",
   "execution_count": 139,
   "metadata": {},
   "outputs": [],
   "source": [
    "not_pol = []"
   ]
  },
  {
   "cell_type": "code",
   "execution_count": 157,
   "metadata": {},
   "outputs": [],
   "source": [
    "not_prt = []"
   ]
  },
  {
   "cell_type": "code",
   "execution_count": 167,
   "metadata": {},
   "outputs": [],
   "source": [
    "not_rou = ['Central government debt, total (% of GDP)',\n",
    "'Net ODA provided, total (% of GNI)']"
   ]
  },
  {
   "cell_type": "code",
   "execution_count": 181,
   "metadata": {},
   "outputs": [],
   "source": [
    "not_svk = ['Central government debt, total (% of GDP)',\n",
    "'Population living in slums (% of urban population)',\n",
    "'Marine protected areas (% of territorial waters)']"
   ]
  },
  {
   "cell_type": "code",
   "execution_count": 195,
   "metadata": {},
   "outputs": [],
   "source": [
    "not_svn = []"
   ]
  },
  {
   "cell_type": "code",
   "execution_count": 209,
   "metadata": {},
   "outputs": [],
   "source": [
    "not_swe = ['Central government debt, total (% of GDP)']"
   ]
  },
  {
   "source": [
    "# Create one common Datset"
   ],
   "cell_type": "markdown",
   "metadata": {}
  },
  {
   "cell_type": "code",
   "execution_count": 11,
   "metadata": {},
   "outputs": [],
   "source": [
    "os.chdir('Data')"
   ]
  },
  {
   "cell_type": "code",
   "execution_count": 14,
   "metadata": {},
   "outputs": [],
   "source": [
    "os.chdir('Z_Final')"
   ]
  },
  {
   "cell_type": "code",
   "execution_count": 16,
   "metadata": {},
   "outputs": [],
   "source": [
    "all_files = os.listdir()"
   ]
  },
  {
   "cell_type": "code",
   "execution_count": 36,
   "metadata": {},
   "outputs": [],
   "source": [
    "all_countries = pd.concat(pd.read_csv(i) for i in all_files).reset_index(drop=True).drop('Unnamed: 0', axis=1)"
   ]
  },
  {
   "cell_type": "code",
   "execution_count": null,
   "metadata": {},
   "outputs": [],
   "source": [
    "all_countries.to_csv('Data/Z_Final/indicators_all.csv')"
   ]
  },
  {
   "cell_type": "code",
   "execution_count": 37,
   "metadata": {},
   "outputs": [],
   "source": [
    "os.chdir('..')"
   ]
  },
  {
   "cell_type": "code",
   "execution_count": 38,
   "metadata": {},
   "outputs": [
    {
     "output_type": "execute_result",
     "data": {
      "text/plain": [
       "'c:\\\\Users\\\\carlo\\\\OneDrive\\\\Data analyst\\\\Ironhack\\\\COURSE\\\\projects\\\\Final project_Humanitarian-EU\\\\Humanitarian-EU\\\\Data'"
      ]
     },
     "metadata": {},
     "execution_count": 38
    }
   ],
   "source": [
    "os.getcwd()"
   ]
  },
  {
   "cell_type": "code",
   "execution_count": 39,
   "metadata": {},
   "outputs": [],
   "source": [
    "all_countries.to_csv('Z_Final_all/indicators_all.csv')"
   ]
  },
  {
   "cell_type": "code",
   "execution_count": null,
   "metadata": {},
   "outputs": [],
   "source": []
  }
 ]
}